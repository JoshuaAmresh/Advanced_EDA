{
 "cells": [
  {
   "cell_type": "markdown",
   "metadata": {},
   "source": [
    "# Exploratory Data Analysis on Email Opening Behaviour\n",
    "\n",
    "\n",
    "* Email Opening Prioirty of the Customer\n",
    "* Data Analysed is from 1st of jan to 4th jan where there are 11Millions Mails are being sent out the customer.\n",
    "* Mails can be for any reasons such as alerts,bill,account information,buy,sell,offer etc.\n",
    "\n",
    "<b>Total Mails Sent out in this time period :11,685,864\n",
    "* Mails opened by the Customers:4,414,718(37.3%)\n",
    "* Mails that are not opened:7,271,148(62.3%)\n",
    "</B>\n",
    "\n",
    "<b>Next step is to perform exploratory analysis to further understand the features and relationships between various features\n",
    "    \n",
    "   Identify the key features that drives the customer decision to exit without completing the transaction.</B>\n",
    "\n",
    "\n",
    "\n",
    "## Data Dictionary\n",
    "\n",
    "There are multiple variables in the dataset which can be cleanly divided in 4 categories:\n",
    "\n",
    "* Customer DNA Features\n",
    "* Payment,Billing,Credit & Buying Features\n",
    "* Calls & Transacation Features\n",
    "\n",
    "\n",
    "There are many features in the data dictionary which we included in our hypothesis.\n"
   ]
  },
  {
   "cell_type": "markdown",
   "metadata": {},
   "source": [
    "### Loading Packages\n",
    "Let us load the packages needed for visualization and exploratory analysis\n",
    "\n",
    "\n"
   ]
  },
  {
   "cell_type": "code",
   "execution_count": null,
   "metadata": {},
   "outputs": [],
   "source": [
    "import numpy as np\n",
    "import pandas as pd\n",
    "\n",
    "import matplotlib.pyplot as plt\n",
    "plt.style.use(\"seaborn-darkgrid\")\n",
    "import seaborn as sns\n",
    "\n",
    "import warnings\n",
    "warnings.filterwarnings('ignore')\n",
    "sns.set(style=\"white\")"
   ]
  },
  {
   "cell_type": "markdown",
   "metadata": {},
   "source": [
    "### Loading Data\n",
    "Loading data from RDG as a dataframe and checking structure of the dataset"
   ]
  },
  {
   "cell_type": "code",
   "execution_count": null,
   "metadata": {},
   "outputs": [],
   "source": [
    "query = \"\"\"\n",
    "select * from vzw_uda_dev_rdgtbls.email_obt_features\n",
    "\"\"\"\n",
    "df_ac=spark.sql(query)\n",
    "#Converting to Pandas\n",
    "df=df_ac.toPandas()\n",
    "#Dataframe Info\n",
    "df.info()"
   ]
  },
  {
   "cell_type": "markdown",
   "metadata": {},
   "source": [
    "The dataset contains 19 continuous and 32 categorical variables"
   ]
  },
  {
   "cell_type": "markdown",
   "metadata": {},
   "source": [
    "### Data Preprocessing Step \n",
    "* Features with a high percentage of missing values\n",
    "* Collinear (highly correlated) features\n",
    "* Features with zero importance in a tree-based model\n",
    "* Features with low importance\n",
    "* Features with a single unique value"
   ]
  },
  {
   "cell_type": "code",
   "execution_count": null,
   "metadata": {},
   "outputs": [],
   "source": [
    "df.iloc[10,:]"
   ]
  },
  {
   "cell_type": "markdown",
   "metadata": {},
   "source": [
    "We have a mix of categorical, numerical and ordinal variables as shown."
   ]
  },
  {
   "cell_type": "markdown",
   "metadata": {},
   "source": [
    "<h3> Target Exploration</h3>\n",
    "\n",
    "We are trying to predict if the customer will Open the email sent to him and at what features that has impact over his action.\n",
    "\n",
    "This is a binary classification problem. Let's look at the target variable and find out how many customers are in the abandon category"
   ]
  },
  {
   "cell_type": "code",
   "execution_count": null,
   "metadata": {},
   "outputs": [],
   "source": [
    "df['om_activity_desc']=df['om_activity_desc'].fillna(0)\n",
    "df['om_activity_desc']=df['om_activity_desc'].replace({\"Open Email\":1,\n",
    "                                                                    \"Clicked\":1})"
   ]
  },
  {
   "cell_type": "code",
   "execution_count": null,
   "metadata": {},
   "outputs": [],
   "source": [
    "ax = sns.catplot(y=\"om_activity_desc\", kind=\"count\", data=df, height=2.6, aspect=2.5, orient='h')\n",
    "plt.show()"
   ]
  },
  {
   "cell_type": "code",
   "execution_count": null,
   "metadata": {},
   "outputs": [],
   "source": [
    "df['om_activity_desc'].value_counts(normalize = True)"
   ]
  },
  {
   "cell_type": "markdown",
   "metadata": {},
   "source": [
    "<b>The dataset contains 62% Not Opened  and 38% Email Opening distribution</b>"
   ]
  },
  {
   "cell_type": "markdown",
   "metadata": {},
   "source": [
    "### Numerical features\n",
    "\n",
    "Let us look at the numerical features. From the description provided in the data dictionary, we can see that we have the following numerical features. Let us quickly describe them to check the following:\n",
    "\n",
    "* Count: Can be used to check for missing value count\n",
    "* Mean: Mean of the variable\n",
    "* Standard Deviation: Standard deviation of the variable\n",
    "* Minimum: Minimum value of the variable\n",
    "* Quantile values: 25, 50 (median) & 75% quantiles of the variable\n",
    "* Maximum: Maximum value of the variable"
   ]
  },
  {
   "cell_type": "code",
   "execution_count": null,
   "metadata": {},
   "outputs": [],
   "source": [
    "def data_distribution(data):\n",
    "    \"\"\" Draws a chart showing data distribution\n",
    "        by combining an histogram and a boxplot\n",
    "        \n",
    "    Parameters\n",
    "    ----------\n",
    "    data: array or series\n",
    "        the data to draw the distribution for\n",
    "        \n",
    "    \"\"\"\n",
    "    \n",
    "    x = np.array(data)\n",
    "    \n",
    "    # set the number of bins using the Rice rule\n",
    "    # n_bins = twice cube root of number of observations\n",
    "    n = len(x)\n",
    "    n_bins = round(2 * n**(1/3))\n",
    "    \n",
    "    fig = plt.figure()\n",
    "    \n",
    "    # histogram\n",
    "    ax1 = fig.add_axes([0.1, 0.3, 0.8, 0.6])\n",
    "    ax1 = plt.hist(x, bins=n_bins, alpha=0.7)\n",
    "    plt.grid(alpha=.5)\n",
    "    \n",
    "    # boxplot\n",
    "    ax2 = fig.add_axes([0.1, 0.1, 0.8, 0.2])\n",
    "    ax2 = plt.boxplot(x, vert=False, widths=0.7)\n",
    "    plt.grid(alpha=.5)\n",
    "           \n",
    "    plt.show()"
   ]
  },
  {
   "cell_type": "code",
   "execution_count": null,
   "metadata": {},
   "outputs": [],
   "source": [
    "cat_cols = ['om_activity_desc','nbs_gen','service_added','service_removed','plan_added_removed','last_payment_mode','email_status_ind','promo_removed_account','late_fee_present','port_activity','nse_ind','aal_ind','trade_in_done','mva_presence','mvo_presence','one_time_credit_ind','apo_failure','last_payment_status','eqp_pur_made']\n",
    "int_cols = ['line_credit_debit_cnt','account_credit_debits_cnt','no_of_purchases','line_credits_amount','line_debits_amount','account_credits_amt','account_debits_amt','line_recur_credit_cnt','line_non_recur_credit_cnt','bill_calls','am_calls','plan_calls','payment_calls','upgrade_calls','usage_calls','troubleshooting_calls','disconnect_calls','international_calls','equipment_calls']"
   ]
  },
  {
   "cell_type": "code",
   "execution_count": null,
   "metadata": {},
   "outputs": [],
   "source": [
    "for col in cat_cols:\n",
    "    df[col]= df[col].replace('?', '0')\n",
    "    df[col]= df[col].replace('#VALUE!', '0')\n",
    "    df[col]= df[col].replace(' ', '0')\n",
    "    df[col]= df[col].fillna(0)\n",
    "    df[col]= df[col].astype('category')\n",
    "    \n",
    "for col in int_cols:\n",
    "    df[col]= df[col].replace('?', '0')\n",
    "    df[col]= df[col].replace('#VALUE!', '0')\n",
    "    df[col]= df[col].replace(' ', '0')\n",
    "    df[col]= df[col].fillna(0)\n",
    "    df[col]= df[col].astype('int')"
   ]
  },
  {
   "cell_type": "code",
   "execution_count": null,
   "metadata": {},
   "outputs": [],
   "source": [
    "df['calls'] = df['bill_calls'] + df['am_calls'] + df['plan_calls'] + df['payment_calls'] + df['upgrade_calls'] + df['usage_calls'] + df['troubleshooting_calls'] + df['disconnect_calls'] + df['international_calls'] + df['equipment_calls']"
   ]
  },
  {
   "cell_type": "code",
   "execution_count": null,
   "metadata": {},
   "outputs": [],
   "source": [
    "intcons_cols = ['line_credit_debit_cnt','account_credit_debits_cnt','no_of_purchases','line_credits_amount','line_debits_amount','account_credits_amt','account_debits_amt','line_recur_credit_cnt','line_non_recur_credit_cnt','calls']"
   ]
  },
  {
   "cell_type": "markdown",
   "metadata": {},
   "source": [
    "There are 19 continous and 32 categorical features available in this dataset"
   ]
  },
  {
   "cell_type": "markdown",
   "metadata": {},
   "source": [
    "### Creating base line metrics"
   ]
  },
  {
   "cell_type": "code",
   "execution_count": null,
   "metadata": {},
   "outputs": [],
   "source": [
    "df[intcons_cols].describe()"
   ]
  },
  {
   "cell_type": "markdown",
   "metadata": {},
   "source": [
    "#### Lets list down a few key observations:\n",
    "* On an average, a customer has made atleast a purchase in past month.\n",
    "* On an average, a customer has credit of atleast 9 Dollar and atleast 4 Dollar Debit expected in his current bill \n",
    "* On an average, a customer has credit of 4 Credits from Recurrent and 0.7 from One time credit\n",
    "* On an average, a customer has atleast one call to the care\n",
    "* On an average, a customer has atleast one credit in the bill on the line level.\n",
    "* On an average, a customer has atleast one debit in the bill on the account level."
   ]
  },
  {
   "cell_type": "code",
   "execution_count": null,
   "metadata": {},
   "outputs": [],
   "source": [
    "df.groupby(['om_activity_desc'])[intcons_cols].mean()"
   ]
  },
  {
   "cell_type": "markdown",
   "metadata": {},
   "source": [
    "#### Customer's Email opening rate is negative when :- \n",
    "* Average credit/line is less than 11 dollars\n",
    "* Average credit/line is less than 5  dollars\n",
    "* Average Recurrent credit/line is less than 4.5 dollars\n",
    "* Average Non Recurrent credit/line is less than 0.9 dollars\n",
    "* Average credit or debit of line level is less than 8 credits.\n",
    "* Average credit or debit of line level is greater than 3 credits.\n",
    "* Average calls is literally none in a last days."
   ]
  },
  {
   "cell_type": "markdown",
   "metadata": {},
   "source": [
    "### Analysing the numeric feature distribution"
   ]
  },
  {
   "cell_type": "markdown",
   "metadata": {},
   "source": [
    "#### Distribution of line level credit/debit"
   ]
  },
  {
   "cell_type": "code",
   "execution_count": null,
   "metadata": {},
   "outputs": [],
   "source": [
    "data_distribution(df['line_credit_debit_cnt'])"
   ]
  },
  {
   "cell_type": "markdown",
   "metadata": {},
   "source": [
    "* Line level credit/debit is positively skewed with much outliers hence it requires variable transformation."
   ]
  },
  {
   "cell_type": "markdown",
   "metadata": {},
   "source": [
    "#### Distribution of Account Credits and Debits presence"
   ]
  },
  {
   "cell_type": "code",
   "execution_count": null,
   "metadata": {},
   "outputs": [],
   "source": [
    "data_distribution(df['account_credit_debits_cnt'])"
   ]
  },
  {
   "cell_type": "markdown",
   "metadata": {},
   "source": [
    "* Account level credit/debit is positively skewed with much outliers hence it requires variable transformation."
   ]
  },
  {
   "cell_type": "markdown",
   "metadata": {},
   "source": [
    "#### Distribution of Number of Purchases"
   ]
  },
  {
   "cell_type": "code",
   "execution_count": null,
   "metadata": {},
   "outputs": [],
   "source": [
    "data_distribution(df['no_of_purchases'])"
   ]
  },
  {
   "cell_type": "markdown",
   "metadata": {},
   "source": [
    "Number of Purchases is positively skewed and hence need a log transformation"
   ]
  },
  {
   "cell_type": "markdown",
   "metadata": {},
   "source": [
    "#### Total Credits per Line"
   ]
  },
  {
   "cell_type": "code",
   "execution_count": null,
   "metadata": {},
   "outputs": [],
   "source": [
    "data_distribution(df['line_credits_amount'])"
   ]
  },
  {
   "cell_type": "markdown",
   "metadata": {},
   "source": [
    "Total Credits per Line is also skewed and hence need a transformation"
   ]
  },
  {
   "cell_type": "markdown",
   "metadata": {},
   "source": [
    "#### Total Debits per Line"
   ]
  },
  {
   "cell_type": "code",
   "execution_count": null,
   "metadata": {},
   "outputs": [],
   "source": [
    "data_distribution(df['line_debits_amount'])"
   ]
  },
  {
   "cell_type": "markdown",
   "metadata": {},
   "source": [
    "Total Debits is also need to be transformed as it has outliers"
   ]
  },
  {
   "cell_type": "markdown",
   "metadata": {},
   "source": [
    "#### Account Credits and Debits"
   ]
  },
  {
   "cell_type": "code",
   "execution_count": null,
   "metadata": {},
   "outputs": [],
   "source": [
    "data_distribution(df['account_credits_amt'])"
   ]
  },
  {
   "cell_type": "code",
   "execution_count": null,
   "metadata": {},
   "outputs": [],
   "source": [
    "data_distribution(df['account_debits_amt'])"
   ]
  },
  {
   "cell_type": "markdown",
   "metadata": {},
   "source": [
    "Both Account Credtis and Debits has outliers and need to be transformed"
   ]
  },
  {
   "cell_type": "markdown",
   "metadata": {},
   "source": [
    "#### Number Recurrent and One time Credits"
   ]
  },
  {
   "cell_type": "code",
   "execution_count": null,
   "metadata": {},
   "outputs": [],
   "source": [
    "data_distribution(df['line_recur_credit_cnt'])"
   ]
  },
  {
   "cell_type": "code",
   "execution_count": null,
   "metadata": {},
   "outputs": [],
   "source": [
    "data_distribution(df['line_non_recur_credit_cnt'])"
   ]
  },
  {
   "cell_type": "markdown",
   "metadata": {},
   "source": [
    "One Time Credit does not need to be transformed but Recurrent credits need to be transformed as there is an outlier"
   ]
  },
  {
   "cell_type": "markdown",
   "metadata": {},
   "source": [
    "#### Distribution of calls"
   ]
  },
  {
   "cell_type": "code",
   "execution_count": null,
   "metadata": {},
   "outputs": [],
   "source": [
    "data_distribution(df['calls'])"
   ]
  },
  {
   "cell_type": "markdown",
   "metadata": {},
   "source": [
    "Calls is positively skewed with much outliers hence it requires variable transformation."
   ]
  },
  {
   "cell_type": "markdown",
   "metadata": {},
   "source": [
    "### Bivariate Analysis\n",
    "\n",
    "Now, we will check the relationship of the numeric variables along with the target. Again conversion to log is important here as we have a lot of outliers and visualization will be difficult for it."
   ]
  },
  {
   "cell_type": "markdown",
   "metadata": {},
   "source": [
    "* <b>Log transformation for skewed variabled</b>"
   ]
  },
  {
   "cell_type": "code",
   "execution_count": null,
   "metadata": {},
   "outputs": [],
   "source": [
    "#intcons_cols = ['line_credit_debit_cnt','account_credit_debits_cnt','no_of_purchases','line_credits_amount','line_debits_amount','account_credits_amt','account_debits_amt','line_recur_credit_cnt','line_non_recur_credit_cnt','calls']\n",
    "df1 = pd.DataFrame()\n",
    "\n",
    "for i in intcons_cols:\n",
    "    df1[str('log_')+ i] = np.log(df[i] + 1)\n",
    "\n",
    "log_cols = df1.columns"
   ]
  },
  {
   "cell_type": "code",
   "execution_count": null,
   "metadata": {},
   "outputs": [],
   "source": [
    "#include the  var as reponse var\n",
    "df1['om_activity_desc'] = df['om_activity_desc']"
   ]
  },
  {
   "cell_type": "code",
   "execution_count": null,
   "metadata": {},
   "outputs": [],
   "source": [
    "df1_not_open = df1[df1['om_activity_desc'] == 0]\n",
    "sns.pairplot(df1_not_open,vars=log_cols,plot_kws={'alpha':0.1})\n",
    "plt.show()"
   ]
  },
  {
   "cell_type": "code",
   "execution_count": null,
   "metadata": {
    "scrolled": true
   },
   "outputs": [],
   "source": [
    "df1_open = df1[df1['om_activity_desc'] == 1]\n",
    "sns.pairplot(df1_open,vars=log_cols,plot_kws={'alpha':0.1})\n",
    "plt.show()"
   ]
  },
  {
   "cell_type": "code",
   "execution_count": null,
   "metadata": {},
   "outputs": [],
   "source": [
    "sns.pairplot(df1,vars=log_cols,hue ='om_activity_desc',plot_kws={'alpha':0.1})\n",
    "plt.show()"
   ]
  },
  {
   "cell_type": "markdown",
   "metadata": {},
   "source": [
    "### Analysing the Numeric feature with KDE (Kernal Density Estimation) plot\n",
    "\n",
    "* KDE Plot Smoothens out even if there are no values for a value\n",
    "* The Y axis gives the probablity density function (AUC)"
   ]
  },
  {
   "cell_type": "code",
   "execution_count": null,
   "metadata": {},
   "outputs": [],
   "source": [
    "# KDE Plot Smoothens out even if there are no values for a value\n",
    "# The Y axis gives the probablity density function (AUC)\n",
    "def kdeplot(feature):\n",
    "    plt.figure(figsize=(9, 4))\n",
    "    plt.title(\"KDE Plot for {}\".format(feature))\n",
    "    ax0 = sns.kdeplot(df[df['om_activity_desc'] == 0][feature].dropna(), color= 'dodgerblue', label= 'Not Opened - 0')\n",
    "    ax1 = sns.kdeplot(df[df['om_activity_desc'] == 1][feature].dropna(), color= 'orange', label= 'Opened - 1')\n",
    "\n",
    "kdeplot('line_credit_debit_cnt')\n",
    "plt.show()"
   ]
  },
  {
   "cell_type": "markdown",
   "metadata": {},
   "source": [
    "* The plot clearly shows that if the customer has more than 3.5 credit/debit per line then chance of opening mail is high."
   ]
  },
  {
   "cell_type": "code",
   "execution_count": null,
   "metadata": {},
   "outputs": [],
   "source": [
    "kdeplot('account_credit_debits_cnt')\n",
    "plt.show()"
   ]
  },
  {
   "cell_type": "markdown",
   "metadata": {},
   "source": [
    "* The plot does not clearly diffenciate between the opening and not opening."
   ]
  },
  {
   "cell_type": "code",
   "execution_count": null,
   "metadata": {},
   "outputs": [],
   "source": [
    "kdeplot('line_credits_amount')\n",
    "plt.show()"
   ]
  },
  {
   "cell_type": "markdown",
   "metadata": {},
   "source": [
    "The Graph clearly shows as there is more credit more chances of opening mail"
   ]
  },
  {
   "cell_type": "code",
   "execution_count": null,
   "metadata": {},
   "outputs": [],
   "source": [
    "kdeplot('line_recur_credit_cnt')\n",
    "plt.show()"
   ]
  },
  {
   "cell_type": "markdown",
   "metadata": {},
   "source": [
    "The Graph clearly shows person with more than 8 recurrent credits to his is opening the mail more often"
   ]
  },
  {
   "cell_type": "code",
   "execution_count": null,
   "metadata": {},
   "outputs": [],
   "source": [
    "kdeplot('no_of_purchases')\n",
    "plt.show()"
   ]
  },
  {
   "cell_type": "markdown",
   "metadata": {},
   "source": [
    "Purchases contribute to the mailing activity as it is shown by the graph.i.e persons with more than 1 purchases in a month has the tendency to open the mail"
   ]
  },
  {
   "cell_type": "markdown",
   "metadata": {},
   "source": [
    "### Categorical features\n",
    "\n",
    "This dataset has  30 + categorical features as can be inferred from the data dictionary. Now let us have a look at the the number of unique values for each of them."
   ]
  },
  {
   "cell_type": "code",
   "execution_count": null,
   "metadata": {},
   "outputs": [],
   "source": [
    "for i in range(0,len(cat_cols)):\n",
    "    print(str(cat_cols[i]) + \" - Number of Unique Values: \" + str(df[cat_cols[i]].nunique()))"
   ]
  },
  {
   "cell_type": "markdown",
   "metadata": {},
   "source": [
    "* As there are no features which has more levels, these categorical variables doesnot require transformation expect few."
   ]
  },
  {
   "cell_type": "markdown",
   "metadata": {},
   "source": [
    "### Bivariate Analysis\n",
    "\n",
    "Lets define a function to quickly compare churn rates for different categories in each feature"
   ]
  },
  {
   "cell_type": "code",
   "execution_count": null,
   "metadata": {},
   "outputs": [],
   "source": [
    "def barplot_percentages(feature):\n",
    "    #fig, (ax1, ax2) = plt.subplots(ncols=2, figsize=(16, 6))\n",
    "    #fig, ax = plt.subplots()\n",
    "    ax1 = df.groupby(feature)['om_activity_desc'].value_counts(normalize=True).unstack()\n",
    "    #plt.figure(figsize=(2,3))\n",
    "    ax1.plot(kind='bar', stacked='True',figsize=(8,4))\n",
    "    int_level = df[feature].value_counts()\n",
    "\n",
    "    plt.figure(figsize=(8,4))\n",
    "    sns.barplot(int_level.index, int_level.values, alpha=0.8)\n",
    "    plt.ylabel('Number of Occurrences', fontsize=12)\n",
    "    plt.xlabel(str(feature), fontsize=12)\n",
    "    plt.show()"
   ]
  },
  {
   "cell_type": "markdown",
   "metadata": {},
   "source": [
    "#### Email Subject/Email Topics\n",
    "<b>This Topic is generated by using the NLP Topic Generator prior to the preprocessing.</b>\n"
   ]
  },
  {
   "cell_type": "code",
   "execution_count": null,
   "metadata": {},
   "outputs": [],
   "source": [
    "barplot_percentages(\"Topics\")"
   ]
  },
  {
   "cell_type": "code",
   "execution_count": null,
   "metadata": {},
   "outputs": [],
   "source": [
    "#Relationship between two categorical variables\n",
    "sns.countplot(x=\"om_activity_desc\", hue = \"Topics\", data = df)"
   ]
  },
  {
   "cell_type": "code",
   "execution_count": null,
   "metadata": {},
   "outputs": [],
   "source": [
    "pd.crosstab(df['om_activity_desc'], df['Topics'])"
   ]
  },
  {
   "cell_type": "markdown",
   "metadata": {},
   "source": [
    "The Topics is one of the major factor in the Mail opening.In this Data it can be defined by the number of opening and by the proportion of the opening.\n",
    "\n",
    "<b>Top Topics based on the numbers </b>                          \n",
    "* Alerts                                                         \n",
    "* Account Maintiance                                                               \n",
    "* Bill & Credits                                                 \n",
    "* Payment & Collections                                         \n",
    "* Order                                                          \n",
    "\n",
    "<b>Top Topics based on the proportion </b>\n",
    "* Technical & Support\n",
    "* Order                    \n",
    "* Promotion & Discounts\n",
    "* Port\n",
    "* Equipment\n",
    "\n",
    "<b> These Topics contributes to about 76% of the mails that are being opened.</b>"
   ]
  },
  {
   "cell_type": "markdown",
   "metadata": {},
   "source": [
    "#### NBS Generator"
   ]
  },
  {
   "cell_type": "code",
   "execution_count": null,
   "metadata": {},
   "outputs": [],
   "source": [
    "barplot_percentages(\"nbs_gen\")"
   ]
  },
  {
   "cell_type": "code",
   "execution_count": null,
   "metadata": {},
   "outputs": [],
   "source": [
    "#Relationship between two categorical variables\n",
    "sns.countplot(x=\"om_activity_desc\", hue = \"nbs_gen\", data = df)"
   ]
  },
  {
   "cell_type": "code",
   "execution_count": null,
   "metadata": {},
   "outputs": [],
   "source": [
    "pd.crosstab(df['om_activity_desc'], df['nbs_gen'])"
   ]
  },
  {
   "cell_type": "markdown",
   "metadata": {},
   "source": [
    "* As expected the nbs genaration does not make much of the difference between mail opening.The customer would be seeing the nbs in his profile itslef after genaration request\n",
    "But People with the NBS tend to open the mail <b> 15.19% which is 3% more than the average opening range of 12.66% <b>"
   ]
  },
  {
   "cell_type": "markdown",
   "metadata": {},
   "source": [
    "#### Service Added"
   ]
  },
  {
   "cell_type": "code",
   "execution_count": null,
   "metadata": {},
   "outputs": [],
   "source": [
    "barplot_percentages(\"service_added\")"
   ]
  },
  {
   "cell_type": "code",
   "execution_count": null,
   "metadata": {},
   "outputs": [],
   "source": [
    "#Relationship between two categorical variables\n",
    "sns.countplot(x=\"om_activity_desc\", hue = \"service_added\", data = df)"
   ]
  },
  {
   "cell_type": "code",
   "execution_count": null,
   "metadata": {},
   "outputs": [],
   "source": [
    "pd.crosstab(df['om_activity_desc'], df['service_added'])"
   ]
  },
  {
   "cell_type": "markdown",
   "metadata": {},
   "source": [
    "* Service added has significant difference between opening the mail and not opening as people who added the service open the mail in the range of <b> 39.13% </b> as compared to not opening % of <b> 34.93 </b>."
   ]
  },
  {
   "cell_type": "markdown",
   "metadata": {},
   "source": [
    "#### Service Removed"
   ]
  },
  {
   "cell_type": "code",
   "execution_count": null,
   "metadata": {},
   "outputs": [],
   "source": [
    "barplot_percentages(\"service_removed\")"
   ]
  },
  {
   "cell_type": "code",
   "execution_count": null,
   "metadata": {},
   "outputs": [],
   "source": [
    "#Relationship between two categorical variables\n",
    "sns.countplot(x=\"om_activity_desc\", hue = \"service_removed\", data = df)"
   ]
  },
  {
   "cell_type": "code",
   "execution_count": null,
   "metadata": {},
   "outputs": [],
   "source": [
    "pd.crosstab(df['om_activity_desc'], df['service_removed'])"
   ]
  },
  {
   "cell_type": "markdown",
   "metadata": {},
   "source": [
    "Service Removed has an added <b>2%(19.31%)</b> advantage on the mail opening as compared to an average of 17.49%"
   ]
  },
  {
   "cell_type": "markdown",
   "metadata": {},
   "source": [
    "#### Plan Change (Add/Remove)"
   ]
  },
  {
   "cell_type": "code",
   "execution_count": null,
   "metadata": {},
   "outputs": [],
   "source": [
    "barplot_percentages(\"plan_added_removed\")"
   ]
  },
  {
   "cell_type": "code",
   "execution_count": null,
   "metadata": {},
   "outputs": [],
   "source": [
    "#Relationship between two categorical variables\n",
    "sns.countplot(x=\"om_activity_desc\", hue = \"plan_added_removed\", data = df)"
   ]
  },
  {
   "cell_type": "code",
   "execution_count": null,
   "metadata": {},
   "outputs": [],
   "source": [
    "pd.crosstab(df['om_activity_desc'], df['plan_added_removed'])"
   ]
  },
  {
   "cell_type": "markdown",
   "metadata": {},
   "source": [
    "Plan Change has a non opening % of 44.73 and opening % of <b>49.56</b> which is an <b>5%</b> difference contributing to the mail opening"
   ]
  },
  {
   "cell_type": "markdown",
   "metadata": {},
   "source": [
    "#### Last Payment Mode"
   ]
  },
  {
   "cell_type": "code",
   "execution_count": null,
   "metadata": {},
   "outputs": [],
   "source": [
    "barplot_percentages(\"last_payment_mode\")"
   ]
  },
  {
   "cell_type": "code",
   "execution_count": null,
   "metadata": {},
   "outputs": [],
   "source": [
    "#Relationship between two categorical variables\n",
    "sns.countplot(x=\"om_activity_desc\", hue = \"last_payment_mode\", data = df)"
   ]
  },
  {
   "cell_type": "code",
   "execution_count": null,
   "metadata": {},
   "outputs": [],
   "source": [
    "pd.crosstab(df['om_activity_desc'], df['last_payment_mode'])"
   ]
  },
  {
   "cell_type": "markdown",
   "metadata": {},
   "source": [
    "Customer who had opened mail are mostly among the last payment modes of <b>AH,CR,DD,WC</b>"
   ]
  },
  {
   "cell_type": "markdown",
   "metadata": {},
   "source": [
    "#### Last Email  Opening status"
   ]
  },
  {
   "cell_type": "code",
   "execution_count": null,
   "metadata": {},
   "outputs": [],
   "source": [
    "barplot_percentages(\"email_status_ind\")"
   ]
  },
  {
   "cell_type": "code",
   "execution_count": null,
   "metadata": {},
   "outputs": [],
   "source": [
    "#Relationship between two categorical variables\n",
    "sns.countplot(x=\"om_activity_desc\", hue = \"email_status_ind\", data = df)"
   ]
  },
  {
   "cell_type": "code",
   "execution_count": null,
   "metadata": {},
   "outputs": [],
   "source": [
    "pd.crosstab(df['om_activity_desc'], df['email_status_ind'])"
   ]
  },
  {
   "cell_type": "markdown",
   "metadata": {},
   "source": [
    "#### Promotion Changes"
   ]
  },
  {
   "cell_type": "code",
   "execution_count": null,
   "metadata": {},
   "outputs": [],
   "source": [
    "barplot_percentages(\"promo_removed_account\")"
   ]
  },
  {
   "cell_type": "code",
   "execution_count": null,
   "metadata": {},
   "outputs": [],
   "source": [
    "#Relationship between two categorical variables\n",
    "sns.countplot(x=\"om_activity_desc\", hue = \"promo_removed_account\", data = df)"
   ]
  },
  {
   "cell_type": "code",
   "execution_count": null,
   "metadata": {},
   "outputs": [],
   "source": [
    "pd.crosstab(df['om_activity_desc'], df['promo_removed_account'])"
   ]
  },
  {
   "cell_type": "markdown",
   "metadata": {},
   "source": [
    "* <b>Surprisingly Promotional Changes does not have any impact on the mail opening (opening-3%,not opening - 2.67%)</b>"
   ]
  },
  {
   "cell_type": "markdown",
   "metadata": {},
   "source": [
    "#### Late Fee "
   ]
  },
  {
   "cell_type": "code",
   "execution_count": null,
   "metadata": {},
   "outputs": [],
   "source": [
    "barplot_percentages(\"late_fee_present\")"
   ]
  },
  {
   "cell_type": "code",
   "execution_count": null,
   "metadata": {},
   "outputs": [],
   "source": [
    "#Relationship between two categorical variables\n",
    "sns.countplot(x=\"om_activity_desc\", hue = \"late_fee_present\", data = df)"
   ]
  },
  {
   "cell_type": "code",
   "execution_count": null,
   "metadata": {},
   "outputs": [],
   "source": [
    "pd.crosstab(df['om_activity_desc'], df['late_fee_present'])"
   ]
  },
  {
   "cell_type": "markdown",
   "metadata": {},
   "source": [
    "* <b>Again Surprisingly People who had late fee open mail only  in the range of 35.05% as compared to 49.05% who does not open the mail</b>"
   ]
  },
  {
   "cell_type": "markdown",
   "metadata": {},
   "source": [
    "#### Port Activity"
   ]
  },
  {
   "cell_type": "code",
   "execution_count": null,
   "metadata": {},
   "outputs": [],
   "source": [
    "barplot_percentages(\"port_activity\")"
   ]
  },
  {
   "cell_type": "code",
   "execution_count": null,
   "metadata": {},
   "outputs": [],
   "source": [
    "#Relationship between two categorical variables\n",
    "sns.countplot(x=\"om_activity_desc\", hue = \"port_activity\", data = df)"
   ]
  },
  {
   "cell_type": "code",
   "execution_count": null,
   "metadata": {},
   "outputs": [],
   "source": [
    "pd.crosstab(df['om_activity_desc'], df['port_activity'])"
   ]
  },
  {
   "cell_type": "markdown",
   "metadata": {},
   "source": [
    "<b>Customers who has done a porting realted activity are more likely to open the mail clearly</b>"
   ]
  },
  {
   "cell_type": "markdown",
   "metadata": {},
   "source": [
    "#### NSE and AAL"
   ]
  },
  {
   "cell_type": "code",
   "execution_count": null,
   "metadata": {},
   "outputs": [],
   "source": [
    "barplot_percentages(\"nse_ind\")"
   ]
  },
  {
   "cell_type": "code",
   "execution_count": null,
   "metadata": {},
   "outputs": [],
   "source": [
    "#Relationship between two categorical variables\n",
    "sns.countplot(x=\"om_activity_desc\", hue = \"nse_ind\", data = df)"
   ]
  },
  {
   "cell_type": "code",
   "execution_count": null,
   "metadata": {},
   "outputs": [],
   "source": [
    "pd.crosstab(df['om_activity_desc'], df['nse_ind'])"
   ]
  },
  {
   "cell_type": "code",
   "execution_count": null,
   "metadata": {},
   "outputs": [],
   "source": [
    "barplot_percentages(\"aal_ind\")"
   ]
  },
  {
   "cell_type": "code",
   "execution_count": null,
   "metadata": {},
   "outputs": [],
   "source": [
    "#Relationship between two categorical variables\n",
    "sns.countplot(x=\"om_activity_desc\", hue = \"aal_ind\", data = df)"
   ]
  },
  {
   "cell_type": "code",
   "execution_count": null,
   "metadata": {},
   "outputs": [],
   "source": [
    "pd.crosstab(df['om_activity_desc'], df['aal_ind'])"
   ]
  },
  {
   "cell_type": "markdown",
   "metadata": {},
   "source": [
    "AAL & NSE Contributes to an added advantage of <b>2%</b> contribution towards the mail opening to the average rate of <b>3.2%</b>"
   ]
  },
  {
   "cell_type": "markdown",
   "metadata": {},
   "source": [
    "#### Trade In Done"
   ]
  },
  {
   "cell_type": "code",
   "execution_count": null,
   "metadata": {},
   "outputs": [],
   "source": [
    "barplot_percentages(\"trade_in_done\")"
   ]
  },
  {
   "cell_type": "code",
   "execution_count": null,
   "metadata": {},
   "outputs": [],
   "source": [
    "#Relationship between two categorical variables\n",
    "sns.countplot(x=\"om_activity_desc\", hue = \"trade_in_done\", data = df)"
   ]
  },
  {
   "cell_type": "code",
   "execution_count": null,
   "metadata": {},
   "outputs": [],
   "source": [
    "pd.crosstab(df['om_activity_desc'], df['trade_in_done'])"
   ]
  },
  {
   "cell_type": "markdown",
   "metadata": {},
   "source": [
    "Trade In Context has very less impact on the mail opening"
   ]
  },
  {
   "cell_type": "markdown",
   "metadata": {},
   "source": [
    "#### Digital Presence (MVO & MVA)"
   ]
  },
  {
   "cell_type": "code",
   "execution_count": null,
   "metadata": {},
   "outputs": [],
   "source": [
    "barplot_percentages(\"mva_presence\")"
   ]
  },
  {
   "cell_type": "code",
   "execution_count": null,
   "metadata": {},
   "outputs": [],
   "source": [
    "#Relationship between two categorical variables\n",
    "sns.countplot(x=\"om_activity_desc\", hue = \"mva_presence\", data = df)"
   ]
  },
  {
   "cell_type": "code",
   "execution_count": null,
   "metadata": {},
   "outputs": [],
   "source": [
    "pd.crosstab(df['om_activity_desc'], df['mva_presence'])"
   ]
  },
  {
   "cell_type": "code",
   "execution_count": null,
   "metadata": {},
   "outputs": [],
   "source": [
    "barplot_percentages(\"mvo_presence\")"
   ]
  },
  {
   "cell_type": "code",
   "execution_count": null,
   "metadata": {},
   "outputs": [],
   "source": [
    "#Relationship between two categorical variables\n",
    "sns.countplot(x=\"om_activity_desc\", hue = \"mvo_presence\", data = df)"
   ]
  },
  {
   "cell_type": "code",
   "execution_count": null,
   "metadata": {},
   "outputs": [],
   "source": [
    "pd.crosstab(df['om_activity_desc'], df['mvo_presence'])"
   ]
  },
  {
   "cell_type": "markdown",
   "metadata": {},
   "source": [
    "* One of the most significant factor is this Digital visits,<b>86.6%</b> Customers who had opened mail had atleast onw digital touchpoint in the past week as compared to the <b>75.4%</b> of the customers who had a touchpoint but has not opened the mail.\n",
    "* This <b>11%</b> increase is one of the significant factor for the mail opening factor"
   ]
  },
  {
   "cell_type": "markdown",
   "metadata": {},
   "source": [
    "#### Last payment Status"
   ]
  },
  {
   "cell_type": "code",
   "execution_count": null,
   "metadata": {},
   "outputs": [],
   "source": [
    "barplot_percentages(\"last_payment_status\")"
   ]
  },
  {
   "cell_type": "code",
   "execution_count": null,
   "metadata": {},
   "outputs": [],
   "source": [
    "#Relationship between two categorical variables\n",
    "sns.countplot(x=\"om_activity_desc\", hue = \"last_payment_status\", data = df)"
   ]
  },
  {
   "cell_type": "code",
   "execution_count": null,
   "metadata": {},
   "outputs": [],
   "source": [
    "pd.crosstab(df['om_activity_desc'], df['last_payment_status'])"
   ]
  },
  {
   "cell_type": "markdown",
   "metadata": {},
   "source": [
    "#### One Time Credit/Credit starting from current month"
   ]
  },
  {
   "cell_type": "code",
   "execution_count": null,
   "metadata": {},
   "outputs": [],
   "source": [
    "barplot_percentages(\"one_time_credit_ind\")\n",
    "#Relationship between two categori"
   ]
  },
  {
   "cell_type": "code",
   "execution_count": null,
   "metadata": {},
   "outputs": [],
   "source": [
    "#Relationship between two categorical variables\n",
    "sns.countplot(x=\"om_activity_desc\", hue = \"one_time_credit_ind\", data = df)"
   ]
  },
  {
   "cell_type": "code",
   "execution_count": null,
   "metadata": {},
   "outputs": [],
   "source": [
    "pd.crosstab(df['om_activity_desc'], df['one_time_credit_ind'])"
   ]
  },
  {
   "cell_type": "markdown",
   "metadata": {},
   "source": [
    "* Credtis have an upper hand in this though very little.But as per % probability of opening mail <b>59%</b> when ever the customer has a credit even though numbers are small"
   ]
  },
  {
   "cell_type": "markdown",
   "metadata": {},
   "source": [
    "#### APO Failure"
   ]
  },
  {
   "cell_type": "code",
   "execution_count": null,
   "metadata": {},
   "outputs": [],
   "source": [
    "barplot_percentages(\"apo_failure\")"
   ]
  },
  {
   "cell_type": "code",
   "execution_count": null,
   "metadata": {},
   "outputs": [],
   "source": [
    "#Relationship between two categorical variables\n",
    "sns.countplot(x=\"om_activity_desc\", hue = \"apo_failure\", data = df)\n"
   ]
  },
  {
   "cell_type": "code",
   "execution_count": null,
   "metadata": {},
   "outputs": [],
   "source": [
    "pd.crosstab(df['om_activity_desc'], df['apo_failure'])"
   ]
  },
  {
   "cell_type": "markdown",
   "metadata": {},
   "source": [
    "* APO Failure does not contribute the mail opening as this failure might be informed to other modes of notifications and hence the need to open this mail is very minimal"
   ]
  },
  {
   "cell_type": "markdown",
   "metadata": {},
   "source": [
    "#### Equipment Purchase"
   ]
  },
  {
   "cell_type": "code",
   "execution_count": null,
   "metadata": {},
   "outputs": [],
   "source": [
    "barplot_percentages(\"eqp_pur_made\")"
   ]
  },
  {
   "cell_type": "code",
   "execution_count": null,
   "metadata": {},
   "outputs": [],
   "source": [
    "#Relationship between two categorical variables\n",
    "sns.countplot(x=\"om_activity_desc\", hue = \"eqp_pur_made\", data = df)"
   ]
  },
  {
   "cell_type": "code",
   "execution_count": null,
   "metadata": {},
   "outputs": [],
   "source": [
    "pd.crosstab(df['om_activity_desc'], df['eqp_pur_made'])"
   ]
  },
  {
   "cell_type": "markdown",
   "metadata": {},
   "source": [
    "* People who bought equipment/Product in last month has <b>28.8% opened mail which is 2% more than that of the average opening rate of 26.37</b>"
   ]
  },
  {
   "cell_type": "markdown",
   "metadata": {},
   "source": [
    "## Conclusion"
   ]
  },
  {
   "cell_type": "markdown",
   "metadata": {},
   "source": [
    "#### Average customer Profile\n",
    "Overall a customer:\n",
    "* has made atleast a purchase in past month.\n",
    "* has credit of atleast 9 Dollar and atleast 4 Dollar Debit expected in his current bill \n",
    "* has credit of 4 Credits from Recurrent and 0.7 from One time credit\n",
    "* has atleast one call to the care\n",
    "* has atleast one credit in the bill on the line level.\n",
    "* has atleast one debit in the bill on the account level.\n",
    "\n",
    "\n",
    "#### Conclusion for Emails Opened\n",
    "* From the sample, around 37.7% mails are being opened. \n",
    "* Numeric features values have a right skewed distribution as observed from the histogram.\n",
    "* Email Topic has huge impact on opening rate.\n",
    "* Higher the credit amount in the current bill cycle higher the opening rate.\n",
    "* If the customer has more than 8 credtis, it increases the opening rate.\n",
    "* Customer who Generated NBS and had an APO Failure has low opening rate.\n",
    "* Customer who purchased something in the past , chance of opening is high.\n",
    "* AAL,NSE has an positive impact on the opening of mail.\n",
    "* Payment Type of the last payment and last payment status contributes to the mail opening."
   ]
  },
  {
   "cell_type": "code",
   "execution_count": null,
   "metadata": {},
   "outputs": [],
   "source": []
  }
 ],
 "metadata": {
  "kernel_args": {
   "archives": [
    "hdfs:///user/pnatarajan/nltk/nltk_data.zip#NLTK",
    "hdfs:///user/pnatarajan/feature_selector/feature_selector.zip#feature_selector"
   ],
   "conf": {
    "spark.driver.maxResultSize": "30g",
    "spark.executorEnv.ARROW_PRE_0_15_IPC_FORMAT": "1",
    "spark.executorEnv.NLTK_DATA": "./NLTK/nltk_data",
    "spark.executorEnv.feature_selector": "./feature_selector/feature_selector",
    "spark.kryoserializer.buffer.max": "512",
    "spark.oath.dockerImage": "ml/rhel8_mlbundle:2020.08.1",
    "spark.sql.execution.arrow.pyspark.enabled": "true",
    "spark.yarn.appMasterEnv.ARROW_PRE_0_15_IPC_FORMAT": "1",
    "spark.yarn.appMasterEnv.NLTK_DATA": "./NLTK/nltk_data",
    "spark.yarn.appMasterEnv.feature_selector": "./feature_selector/feature_selector"
   },
   "driver-cores": "4",
   "driver-memory": "60G",
   "executor-cores": "2",
   "executor-memory": "5G",
   "version": "current"
  },
  "kernelspec": {
   "display_name": "Python 3 (ipykernel)",
   "language": "python",
   "name": "python3"
  },
  "language_info": {
   "codemirror_mode": {
    "name": "ipython",
    "version": 3
   },
   "file_extension": ".py",
   "mimetype": "text/x-python",
   "name": "python",
   "nbconvert_exporter": "python",
   "pygments_lexer": "ipython3",
   "version": "3.9.7"
  },
  "toc": {
   "base_numbering": 1,
   "nav_menu": {},
   "number_sections": true,
   "sideBar": true,
   "skip_h1_title": false,
   "title_cell": "Table of Contents",
   "title_sidebar": "Contents",
   "toc_cell": false,
   "toc_position": {},
   "toc_section_display": true,
   "toc_window_display": false
  }
 },
 "nbformat": 4,
 "nbformat_minor": 4
}
